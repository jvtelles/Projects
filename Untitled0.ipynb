{
  "nbformat": 4,
  "nbformat_minor": 0,
  "metadata": {
    "colab": {
      "provenance": [],
      "toc_visible": true,
      "authorship_tag": "ABX9TyMR2xPZSLGb8wc/IHr6LFHE",
      "include_colab_link": true
    },
    "kernelspec": {
      "name": "python3",
      "display_name": "Python 3"
    },
    "language_info": {
      "name": "python"
    }
  },
  "cells": [
    {
      "cell_type": "markdown",
      "metadata": {
        "id": "view-in-github",
        "colab_type": "text"
      },
      "source": [
        "<a href=\"https://colab.research.google.com/github/jvtelles/Projects/blob/main/Untitled0.ipynb\" target=\"_parent\"><img src=\"https://colab.research.google.com/assets/colab-badge.svg\" alt=\"Open In Colab\"/></a>"
      ]
    },
    {
      "cell_type": "code",
      "execution_count": 1,
      "metadata": {
        "colab": {
          "base_uri": "https://localhost:8080/"
        },
        "id": "irb689GMOXe2",
        "outputId": "fb6847fe-9ffa-4d0f-87e6-6fd966d908d4"
      },
      "outputs": [
        {
          "output_type": "stream",
          "name": "stdout",
          "text": [
            "Olá mundão\n"
          ]
        }
      ],
      "source": [
        "print (\"Olá mundão\")"
      ]
    },
    {
      "cell_type": "code",
      "source": [
        "idade = 30\n",
        "print (idade)\n",
        "\n",
        "nome = 'João Telles'\n",
        "print(nome)"
      ],
      "metadata": {
        "colab": {
          "base_uri": "https://localhost:8080/"
        },
        "id": "lsYm6hU-Sx5f",
        "outputId": "16e3efbc-b8f7-4b0e-f347-be0b033fd079"
      },
      "execution_count": 3,
      "outputs": [
        {
          "output_type": "stream",
          "name": "stdout",
          "text": [
            "30\n",
            "João Telles\n"
          ]
        }
      ]
    },
    {
      "cell_type": "code",
      "source": [
        "del print"
      ],
      "metadata": {
        "id": "zO7hh5viXoTU"
      },
      "execution_count": 37,
      "outputs": []
    },
    {
      "cell_type": "code",
      "source": [
        "preco = 10\n",
        "tipo_preco = type (preco)\n",
        "\n",
        "print (preco)\n",
        "print (tipo_preco)\n",
        "\n",
        "juros = 10.10\n",
        "tipo_juros = type (juros)\n",
        "\n",
        "print (juros)\n",
        "print (tipo_juros)"
      ],
      "metadata": {
        "colab": {
          "base_uri": "https://localhost:8080/"
        },
        "id": "yKIqtDCnYFuz",
        "outputId": "537b292f-a89e-42ef-fcb7-af2eedab1429"
      },
      "execution_count": 40,
      "outputs": [
        {
          "output_type": "stream",
          "name": "stdout",
          "text": [
            "10\n",
            "<class 'int'>\n",
            "10.1\n",
            "<class 'float'>\n"
          ]
        }
      ]
    },
    {
      "cell_type": "code",
      "source": [
        "primero_nome = \"João\"\n",
        "\n",
        "print (primero_nome)\n",
        "print (type (primero_nome))\n",
        "\n",
        "pais = \"Usa\"\n",
        "\n",
        "print (pais)\n",
        "print (type (pais))"
      ],
      "metadata": {
        "colab": {
          "base_uri": "https://localhost:8080/"
        },
        "id": "Jv9SLfPhY57U",
        "outputId": "ba7a3188-2d5b-437b-ad2e-938f20cef0af"
      },
      "execution_count": 53,
      "outputs": [
        {
          "output_type": "stream",
          "name": "stdout",
          "text": [
            "João\n",
            "<class 'str'>\n",
            "Usa\n",
            "<class 'str'>\n"
          ]
        }
      ]
    },
    {
      "cell_type": "code",
      "source": [
        "joao_maior_de_idade = True\n",
        "\n",
        "print (joao_maior_de_idade)\n",
        "print (type (joao_maior_de_idade))"
      ],
      "metadata": {
        "colab": {
          "base_uri": "https://localhost:8080/"
        },
        "id": "64b75m1-aOmi",
        "outputId": "1259e7e8-af75-4f6b-e7a1-e489dee9aec3"
      },
      "execution_count": 56,
      "outputs": [
        {
          "output_type": "stream",
          "name": "stdout",
          "text": [
            "True\n",
            "<class 'bool'>\n"
          ]
        }
      ]
    },
    {
      "cell_type": "code",
      "source": [
        "telefone = None\n",
        "\n",
        "print (telefone)\n",
        "print (type (telefone))"
      ],
      "metadata": {
        "colab": {
          "base_uri": "https://localhost:8080/"
        },
        "id": "EFzfkHxLai_C",
        "outputId": "c7f8bc9f-219e-4238-f443-22d5ef6049cd"
      },
      "execution_count": 60,
      "outputs": [
        {
          "output_type": "stream",
          "name": "stdout",
          "text": [
            "None\n",
            "<class 'NoneType'>\n"
          ]
        }
      ]
    },
    {
      "cell_type": "code",
      "source": [
        "pessoas = 10\n",
        "mini_coca = 5\n",
        "duplas_totais = 5\n",
        "\n",
        "print (pessoas / mini_coca)"
      ],
      "metadata": {
        "colab": {
          "base_uri": "https://localhost:8080/"
        },
        "id": "vgccZmf9hq4h",
        "outputId": "f2fca89a-54cf-4cf5-c31e-79916bc09466"
      },
      "execution_count": 62,
      "outputs": [
        {
          "output_type": "stream",
          "name": "stdout",
          "text": [
            "2.0\n"
          ]
        }
      ]
    }
  ]
}